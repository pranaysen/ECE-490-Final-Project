{
  "nbformat": 4,
  "nbformat_minor": 0,
  "metadata": {
    "colab": {
      "provenance": []
    },
    "kernelspec": {
      "name": "python3",
      "display_name": "Python 3"
    },
    "language_info": {
      "name": "python"
    }
  },
  "cells": [
    {
      "cell_type": "code",
      "source": [
        "!pip install numdifftools"
      ],
      "metadata": {
        "colab": {
          "base_uri": "https://localhost:8080/"
        },
        "id": "J1mOSBfEIQKN",
        "outputId": "49274f04-adce-42ae-f1a9-6aaf4724843a"
      },
      "execution_count": null,
      "outputs": [
        {
          "output_type": "stream",
          "name": "stdout",
          "text": [
            "Looking in indexes: https://pypi.org/simple, https://us-python.pkg.dev/colab-wheels/public/simple/\n",
            "Requirement already satisfied: numdifftools in /usr/local/lib/python3.8/dist-packages (0.9.41)\n",
            "Requirement already satisfied: scipy>=0.8 in /usr/local/lib/python3.8/dist-packages (from numdifftools) (1.7.3)\n",
            "Requirement already satisfied: numpy>=1.9 in /usr/local/lib/python3.8/dist-packages (from numdifftools) (1.21.6)\n"
          ]
        }
      ]
    },
    {
      "cell_type": "code",
      "execution_count": null,
      "metadata": {
        "id": "t5XkgN5BxPZ7"
      },
      "outputs": [],
      "source": [
        "import numpy as np\n",
        "import matplotlib.pyplot as plt\n",
        "import numdifftools as nd"
      ]
    },
    {
      "cell_type": "code",
      "source": [
        "z1 = np.random.normal(size=2)\n",
        "z2 = np.random.normal(size=2)\n",
        "z3 = np.random.normal(size=2)\n",
        "z4 = np.random.normal(size=2)\n",
        "z5 = np.random.normal(size=2)"
      ],
      "metadata": {
        "id": "BQnMupOxxfBp"
      },
      "execution_count": null,
      "outputs": []
    },
    {
      "cell_type": "code",
      "source": [
        "Z = np.array([z1, z2, z3, z4, z5])\n",
        "print(Z.shape)\n",
        "Z"
      ],
      "metadata": {
        "colab": {
          "base_uri": "https://localhost:8080/"
        },
        "id": "eV544j5P2wh3",
        "outputId": "32f31da5-4f82-400c-b4f2-13a58ce16bd8"
      },
      "execution_count": null,
      "outputs": [
        {
          "output_type": "stream",
          "name": "stdout",
          "text": [
            "(5, 2)\n"
          ]
        },
        {
          "output_type": "execute_result",
          "data": {
            "text/plain": [
              "array([[ 0.2147064 , -0.78904189],\n",
              "       [ 0.86109995,  1.2997749 ],\n",
              "       [ 0.18175281,  1.58210896],\n",
              "       [ 0.64855977, -0.48651213],\n",
              "       [-1.78018992, -0.53748183]])"
            ]
          },
          "metadata": {},
          "execution_count": 4
        }
      ]
    },
    {
      "cell_type": "code",
      "source": [
        "M = Z @ Z.T\n",
        "M"
      ],
      "metadata": {
        "colab": {
          "base_uri": "https://localhost:8080/"
        },
        "id": "ELWGa0IW3H8s",
        "outputId": "27ca2ff4-8d58-48d7-ccef-aca1469fd982"
      },
      "execution_count": null,
      "outputs": [
        {
          "output_type": "execute_result",
          "data": {
            "text/plain": [
              "array([[ 0.66868594, -0.84069317, -1.20932675,  0.52312838,  0.04187751],\n",
              "       [-0.84069317,  2.4309079 ,  2.21289284, -0.07388146, -2.23152683],\n",
              "       [-1.20932675,  2.21289284,  2.53610284, -0.65183763, -1.17390934],\n",
              "       [ 0.52312838, -0.07388146, -0.65183763,  0.65732382, -0.89306814],\n",
              "       [ 0.04187751, -2.23152683, -1.17390934, -0.89306814,  3.45796287]])"
            ]
          },
          "metadata": {},
          "execution_count": 5
        }
      ]
    },
    {
      "cell_type": "code",
      "source": [
        "w1 = np.random.normal(size=4)\n",
        "w2 = np.random.normal(size=4)\n",
        "w3 = np.random.normal(size=4)\n",
        "w4 = np.random.normal(size=4)\n",
        "w5 = np.random.normal(size=4)\n",
        "\n",
        "W = np.array([w1, w2, w3, w4, w5])\n",
        "print(W.shape)\n",
        "W"
      ],
      "metadata": {
        "colab": {
          "base_uri": "https://localhost:8080/"
        },
        "id": "NS_CaZUB3MdR",
        "outputId": "50fb1b8b-96de-45e1-e8bf-6a176065a435"
      },
      "execution_count": null,
      "outputs": [
        {
          "output_type": "stream",
          "name": "stdout",
          "text": [
            "(5, 4)\n"
          ]
        },
        {
          "output_type": "execute_result",
          "data": {
            "text/plain": [
              "array([[-0.41272415, -0.20925735,  0.67485795, -1.80092799],\n",
              "       [ 1.37841403,  0.08474182, -0.78650526, -0.27259039],\n",
              "       [-0.98517393,  0.36016848,  1.12332149,  0.78770817],\n",
              "       [-0.15016367, -0.11558697, -0.68439211, -1.13411062],\n",
              "       [ 1.01008216,  0.83206255, -0.36391273, -0.48623953]])"
            ]
          },
          "metadata": {},
          "execution_count": 6
        }
      ]
    },
    {
      "cell_type": "code",
      "source": [
        "zeros = np.zeros(10).reshape((5,2))\n",
        "X0 = np.append(Z, zeros, axis=1)\n",
        "print(X0.shape)\n",
        "X0"
      ],
      "metadata": {
        "colab": {
          "base_uri": "https://localhost:8080/"
        },
        "id": "l6HO1eQG3WIy",
        "outputId": "695a0289-de41-4ee5-ef32-09be25e9ea68"
      },
      "execution_count": null,
      "outputs": [
        {
          "output_type": "stream",
          "name": "stdout",
          "text": [
            "(5, 4)\n"
          ]
        },
        {
          "output_type": "execute_result",
          "data": {
            "text/plain": [
              "array([[ 0.2147064 , -0.78904189,  0.        ,  0.        ],\n",
              "       [ 0.86109995,  1.2997749 ,  0.        ,  0.        ],\n",
              "       [ 0.18175281,  1.58210896,  0.        ,  0.        ],\n",
              "       [ 0.64855977, -0.48651213,  0.        ,  0.        ],\n",
              "       [-1.78018992, -0.53748183,  0.        ,  0.        ]])"
            ]
          },
          "metadata": {},
          "execution_count": 7
        }
      ]
    },
    {
      "cell_type": "code",
      "source": [
        "X0 = X0 + W\n",
        "X0"
      ],
      "metadata": {
        "colab": {
          "base_uri": "https://localhost:8080/"
        },
        "id": "cdNOPU9G5K1Q",
        "outputId": "d415898c-8372-4ff3-e028-e0c44101019d"
      },
      "execution_count": null,
      "outputs": [
        {
          "output_type": "execute_result",
          "data": {
            "text/plain": [
              "array([[-0.19801775, -0.99829923,  0.67485795, -1.80092799],\n",
              "       [ 2.23951397,  1.38451671, -0.78650526, -0.27259039],\n",
              "       [-0.80342111,  1.94227743,  1.12332149,  0.78770817],\n",
              "       [ 0.4983961 , -0.6020991 , -0.68439211, -1.13411062],\n",
              "       [-0.77010776,  0.29458072, -0.36391273, -0.48623953]])"
            ]
          },
          "metadata": {},
          "execution_count": 8
        }
      ]
    },
    {
      "cell_type": "code",
      "source": [
        "def f(X):\n",
        "  return np.linalg.norm((X @ X.T) - M) ** 2\n",
        "\n",
        "def grad_f(X):\n",
        "  return 2 * (X@X.T - M)@X + 2 * (X@X.T + -M.T)@X"
      ],
      "metadata": {
        "id": "qZLUnJMI6d_c"
      },
      "execution_count": null,
      "outputs": []
    },
    {
      "cell_type": "code",
      "source": [
        "errorBound = 10**-8\n",
        "X = X0\n",
        "a = 2 * 10**-4\n",
        "PrecGD_iterates = []\n",
        "PrecGD_functionValues = []\n",
        "\n",
        "while f(X) > errorBound:\n",
        "  PrecGD_iterates.append(X)\n",
        "  PrecGD_functionValues.append(f(X))\n",
        "  eta = np.sqrt(f(X))\n",
        "  X = X - (a * grad_f(X).reshape((5,4))) @ np.linalg.inv((X.T @ X + eta * np.eye(4)))\n",
        "\n",
        "PrecGD_iterates.append(X)\n",
        "PrecGD_functionValues.append(f(X))"
      ],
      "metadata": {
        "id": "9KAI9KZr5RQ6"
      },
      "execution_count": null,
      "outputs": []
    },
    {
      "cell_type": "code",
      "source": [
        "fig = plt.figure()\n",
        "ax = fig.add_subplot(2,1,1)\n",
        "plt.plot(PrecGD_functionValues)\n",
        "ax.set_yscale('log')\n",
        "plt.show()"
      ],
      "metadata": {
        "colab": {
          "base_uri": "https://localhost:8080/",
          "height": 147
        },
        "id": "Gk5KFK6rE1UC",
        "outputId": "d183706a-facb-40bb-fc68-539b0acab4ff"
      },
      "execution_count": null,
      "outputs": [
        {
          "output_type": "display_data",
          "data": {
            "text/plain": [
              "<Figure size 432x288 with 1 Axes>"
            ],
            "image/png": "[encoded data removed]"
          },
          "metadata": {
            "needs_background": "light"
          }
        }
      ]
    },
    {
      "cell_type": "code",
      "source": [
        "errorBound = 10**-8\n",
        "X = X0\n",
        "a = 2 * 10**-4\n",
        "PrecGD_max_iterates = []\n",
        "PrecGD_max_functionValues = []\n",
        "\n",
        "while f(X) > errorBound:\n",
        "  PrecGD_max_iterates.append(X)\n",
        "  PrecGD_max_functionValues.append(f(X))\n",
        "  eta = max(f(X), f(X)**(1/4))\n",
        "  X = X - (a * grad_f(X).reshape((5,4))) @ np.linalg.inv((X.T @ X + eta * np.eye(4)))\n",
        "\n",
        "PrecGD_max_iterates.append(X)\n",
        "PrecGD_max_functionValues.append(f(X))"
      ],
      "metadata": {
        "id": "kU50OzzP63Se"
      },
      "execution_count": null,
      "outputs": []
    },
    {
      "cell_type": "code",
      "source": [
        "errorBound = 10**-8\n",
        "X = X0\n",
        "a = 2 * 10**-4\n",
        "PrecGD_min_iterates = []\n",
        "PrecGD_min_functionValues = []\n",
        "\n",
        "while f(X) > errorBound:\n",
        "  PrecGD_min_iterates.append(X)\n",
        "  PrecGD_min_functionValues.append(f(X))\n",
        "  eta = min(f(X), f(X)**(1/4))\n",
        "  X = X - (a * grad_f(X).reshape((5,4))) @ np.linalg.inv((X.T @ X + eta * np.eye(4)))\n",
        "\n",
        "PrecGD_min_iterates.append(X)\n",
        "PrecGD_min_functionValues.append(f(X))"
      ],
      "metadata": {
        "id": "IGmFpvuw__iB"
      },
      "execution_count": null,
      "outputs": []
    },
    {
      "cell_type": "code",
      "source": [
        "fig = plt.figure(figsize=(8,8))\n",
        "ax = fig.add_subplot(2,1,1)\n",
        "plt.plot(PrecGD_min_functionValues, label=\"PrecGD min\")\n",
        "plt.legend()\n",
        "ax.set_yscale('log')\n",
        "plt.xlim([0,30000])\n",
        "plt.show()"
      ],
      "metadata": {
        "colab": {
          "base_uri": "https://localhost:8080/",
          "height": 246
        },
        "id": "OlclBo7edwU2",
        "outputId": "6a7bacb0-9206-4709-a726-35d839ab3344"
      },
      "execution_count": null,
      "outputs": [
        {
          "output_type": "display_data",
          "data": {
            "text/plain": [
              "<Figure size 576x576 with 1 Axes>"
            ],
            "image/png": "[encoded data removed]"
          },
          "metadata": {
            "needs_background": "light"
          }
        }
      ]
    },
    {
      "cell_type": "code",
      "source": [
        "errorBound = 10**-8\n",
        "X = X0\n",
        "a = 2 * 10**-4\n",
        "GD_iterates = []\n",
        "GD_functionValues = []\n",
        "\n",
        "while f(X) > errorBound:\n",
        "  GD_iterates.append(X)\n",
        "  GD_functionValues.append(f(X))\n",
        "  X = X - a * grad_f(X)\n",
        "\n",
        "GD_iterates.append(X)\n",
        "GD_functionValues.append(f(X))"
      ],
      "metadata": {
        "id": "s6N3Ke3SFrRH"
      },
      "execution_count": null,
      "outputs": []
    },
    {
      "cell_type": "code",
      "source": [
        "plt.plot(GD_functionValues)"
      ],
      "metadata": {
        "colab": {
          "base_uri": "https://localhost:8080/",
          "height": 297
        },
        "id": "tE7hmfDIHEFs",
        "outputId": "80d23024-c6c8-4121-98fa-845ad67a26a6"
      },
      "execution_count": null,
      "outputs": [
        {
          "output_type": "execute_result",
          "data": {
            "text/plain": [
              "[<matplotlib.lines.Line2D at 0x7fcf421e5be0>]"
            ]
          },
          "metadata": {},
          "execution_count": 16
        },
        {
          "output_type": "display_data",
          "data": {
            "text/plain": [
              "<Figure size 432x288 with 1 Axes>"
            ],
            "image/png": "[encoded data removed]"
          },
          "metadata": {
            "needs_background": "light"
          }
        }
      ]
    },
    {
      "cell_type": "code",
      "source": [
        "errorBound = 10**-8\n",
        "X = X0\n",
        "a = 2 * 10**-2\n",
        "ScaledGD_iterates = []\n",
        "ScaledGD_functionValues = []\n",
        "\n",
        "while f(X) > errorBound:\n",
        "  ScaledGD_iterates.append(X)\n",
        "  ScaledGD_functionValues.append(f(X))\n",
        "  X = X - a * grad_f(X) @ np.linalg.inv(X.T @ X)\n",
        "\n",
        "ScaledGD_iterates.append(X)\n",
        "ScaledGD_functionValues.append(f(X))"
      ],
      "metadata": {
        "id": "I0wvm5B7NACr"
      },
      "execution_count": null,
      "outputs": []
    },
    {
      "cell_type": "code",
      "source": [
        "fig = plt.figure()\n",
        "ax = fig.add_subplot(2,1,1)\n",
        "plt.plot(PrecGD_functionValues, label=\"PrecGD\")\n",
        "plt.plot(GD_functionValues, label=\"GD\")\n",
        "plt.legend()\n",
        "ax.set_yscale('log')\n",
        "plt.xlim([0,30000])\n",
        "plt.show()"
      ],
      "metadata": {
        "colab": {
          "base_uri": "https://localhost:8080/",
          "height": 147
        },
        "id": "mOrMXQjBO42W",
        "outputId": "b32acb21-c95f-45ba-f501-281ab8ec3cff"
      },
      "execution_count": null,
      "outputs": [
        {
          "output_type": "display_data",
          "data": {
            "text/plain": [
              "<Figure size 432x288 with 1 Axes>"
            ],
            "image/png": "[encoded data removed]"
          },
          "metadata": {
            "needs_background": "light"
          }
        }
      ]
    },
    {
      "cell_type": "code",
      "source": [
        "fig = plt.figure(figsize=(8,8))\n",
        "ax = fig.add_subplot(2,1,1)\n",
        "plt.plot(PrecGD_functionValues, label=\"PrecGD\")\n",
        "plt.plot(GD_functionValues, label=\"GD\")\n",
        "plt.plot(ScaledGD_functionValues, label=\"ScaledGD\")\n",
        "plt.legend()\n",
        "ax.set_yscale('log')\n",
        "plt.xlim([0,30000])\n",
        "plt.show()"
      ],
      "metadata": {
        "colab": {
          "base_uri": "https://localhost:8080/",
          "height": 246
        },
        "id": "Y55qxDSfKDFu",
        "outputId": "5038a8e5-911a-473a-e3a0-fec496cba851"
      },
      "execution_count": null,
      "outputs": [
        {
          "output_type": "display_data",
          "data": {
            "text/plain": [
              "<Figure size 576x576 with 1 Axes>"
            ],
            "image/png": "[encoded data removed]"
          },
          "metadata": {
            "needs_background": "light"
          }
        }
      ]
    },
    {
      "cell_type": "code",
      "source": [
        "fig = plt.figure(figsize=(8,8))\n",
        "ax = fig.add_subplot(2,1,1)\n",
        "plt.plot(PrecGD_functionValues, label=\"PrecGD\")\n",
        "plt.plot(PrecGD_min_functionValues, label=\"PrecGD Min\")\n",
        "plt.plot(PrecGD_max_functionValues, label=\"PrecGD Max\")\n",
        "plt.plot(ScaledGD_functionValues, label=\"ScaledGD\")\n",
        "plt.plot(GD_functionValues, label=\"GD\")\n",
        "plt.xlim([0,30000])\n",
        "plt.legend()\n",
        "ax.set_yscale('log')\n",
        "plt.show()"
      ],
      "metadata": {
        "colab": {
          "base_uri": "https://localhost:8080/",
          "height": 246
        },
        "id": "mzr_ydXPcjtc",
        "outputId": "429f0bae-03d3-4c2e-e0db-3aaca0757fda"
      },
      "execution_count": null,
      "outputs": [
        {
          "output_type": "display_data",
          "data": {
            "text/plain": [
              "<Figure size 576x576 with 1 Axes>"
            ],
            "image/png": "[encoded data removed]"
          },
          "metadata": {
            "needs_background": "light"
          }
        }
      ]
    },
    {
      "cell_type": "code",
      "source": [
        "len(ScaledGD_iterates)\n",
        "ScaledGD_functionValues[-1]"
      ],
      "metadata": {
        "colab": {
          "base_uri": "https://localhost:8080/"
        },
        "id": "9MUuTnRq3hP5",
        "outputId": "42cd744c-ca86-4b0a-ffd1-69776b9775b2"
      },
      "execution_count": null,
      "outputs": [
        {
          "output_type": "execute_result",
          "data": {
            "text/plain": [
              "8.895831885413717e-09"
            ]
          },
          "metadata": {},
          "execution_count": 22
        }
      ]
    }
  ]
}