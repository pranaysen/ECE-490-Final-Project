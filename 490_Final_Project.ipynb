{
  "nbformat": 4,
  "nbformat_minor": 0,
  "metadata": {
    "colab": {
      "provenance": []
    },
    "kernelspec": {
      "name": "python3",
      "display_name": "Python 3"
    },
    "language_info": {
      "name": "python"
    }
  },
  "cells": [
    {
      "cell_type": "code",
      "source": [
        "!pip install numdifftools"
      ],
      "metadata": {
        "colab": {
          "base_uri": "https://localhost:8080/"
        },
        "id": "J1mOSBfEIQKN",
        "outputId": "9d920fe4-797a-452f-a704-979fb061d6e7"
      },
      "execution_count": null,
      "outputs": [
        {
          "output_type": "stream",
          "name": "stdout",
          "text": [
            "Looking in indexes: https://pypi.org/simple, https://us-python.pkg.dev/colab-wheels/public/simple/\n",
            "Requirement already satisfied: numdifftools in /usr/local/lib/python3.8/dist-packages (0.9.41)\n",
            "Requirement already satisfied: scipy>=0.8 in /usr/local/lib/python3.8/dist-packages (from numdifftools) (1.7.3)\n",
            "Requirement already satisfied: numpy>=1.9 in /usr/local/lib/python3.8/dist-packages (from numdifftools) (1.21.6)\n"
          ]
        }
      ]
    },
    {
      "cell_type": "code",
      "execution_count": null,
      "metadata": {
        "id": "t5XkgN5BxPZ7"
      },
      "outputs": [],
      "source": [
        "import numpy as np\n",
        "import matplotlib.pyplot as plt\n",
        "import numdifftools as nd"
      ]
    },
    {
      "cell_type": "code",
      "source": [
        "z1 = np.random.normal(size=2)\n",
        "z2 = np.random.normal(size=2)\n",
        "z3 = np.random.normal(size=2)\n",
        "z4 = np.random.normal(size=2)\n",
        "z5 = np.random.normal(size=2)"
      ],
      "metadata": {
        "id": "BQnMupOxxfBp"
      },
      "execution_count": null,
      "outputs": []
    },
    {
      "cell_type": "code",
      "source": [
        "Z = np.array([z1, z2, z3, z4, z5])\n",
        "print(Z.shape)\n",
        "Z"
      ],
      "metadata": {
        "colab": {
          "base_uri": "https://localhost:8080/"
        },
        "id": "eV544j5P2wh3",
        "outputId": "ee0acb79-bab0-43ef-9863-9c0571d126eb"
      },
      "execution_count": null,
      "outputs": [
        {
          "output_type": "stream",
          "name": "stdout",
          "text": [
            "(5, 2)\n"
          ]
        },
        {
          "output_type": "execute_result",
          "data": {
            "text/plain": [
              "array([[ 1.53898408,  1.47583787],\n",
              "       [ 1.00446603,  0.50987426],\n",
              "       [ 0.47772112,  0.34402684],\n",
              "       [ 0.10619977, -1.83165512],\n",
              "       [-0.97961619,  1.95418353]])"
            ]
          },
          "metadata": {},
          "execution_count": 4
        }
      ]
    },
    {
      "cell_type": "code",
      "source": [
        "M = Z @ Z.T\n",
        "M"
      ],
      "metadata": {
        "colab": {
          "base_uri": "https://localhost:8080/"
        },
        "id": "ELWGa0IW3H8s",
        "outputId": "c8f5d4b6-27fe-4dfd-f205-ff6b13875eef"
      },
      "execution_count": null,
      "outputs": [
        {
          "output_type": "execute_result",
          "data": {
            "text/plain": [
              "array([[ 4.54656942,  2.29834896,  1.24293304, -2.53978624,  1.37644435],\n",
              "       [ 2.29834896,  1.26892376,  0.65526506, -0.82723973,  0.01239669],\n",
              "       [ 1.24293304,  0.65526506,  0.34657194, -0.57940465,  0.20430825],\n",
              "       [-2.53978624, -0.82723973, -0.57940465,  3.36623888, -3.6834253 ],\n",
              "       [ 1.37644435,  0.01239669,  0.20430825, -3.6834253 ,  4.77848116]])"
            ]
          },
          "metadata": {},
          "execution_count": 5
        }
      ]
    },
    {
      "cell_type": "code",
      "source": [
        "w1 = np.random.normal(size=3)\n",
        "w2 = np.random.normal(size=3)\n",
        "w3 = np.random.normal(size=3)\n",
        "w4 = np.random.normal(size=3)\n",
        "w5 = np.random.normal(size=3)\n",
        "\n",
        "W = np.array([w1, w2, w3, w4, w5])\n",
        "print(W.shape)\n",
        "W"
      ],
      "metadata": {
        "colab": {
          "base_uri": "https://localhost:8080/"
        },
        "id": "NS_CaZUB3MdR",
        "outputId": "42fbc2a6-1b03-438d-b9cf-b919122cbeda"
      },
      "execution_count": null,
      "outputs": [
        {
          "output_type": "stream",
          "name": "stdout",
          "text": [
            "(5, 3)\n"
          ]
        },
        {
          "output_type": "execute_result",
          "data": {
            "text/plain": [
              "array([[-0.6423386 , -0.79555948, -0.25191102],\n",
              "       [-0.11299779,  0.51696491, -0.57999136],\n",
              "       [ 0.71775878,  0.05363664, -0.16644982],\n",
              "       [-0.28616721, -0.33768381, -0.23169902],\n",
              "       [ 0.44435586, -1.19021992,  1.28086255]])"
            ]
          },
          "metadata": {},
          "execution_count": 6
        }
      ]
    },
    {
      "cell_type": "code",
      "source": [
        "zeros = np.zeros(5).reshape((5,1))\n",
        "X0 = np.append(Z, zeros, axis=1)\n",
        "print(X0.shape)\n",
        "X0"
      ],
      "metadata": {
        "colab": {
          "base_uri": "https://localhost:8080/"
        },
        "id": "l6HO1eQG3WIy",
        "outputId": "e00ce8e5-d2a2-4e36-fe18-cfbfbaa2131a"
      },
      "execution_count": null,
      "outputs": [
        {
          "output_type": "stream",
          "name": "stdout",
          "text": [
            "(5, 3)\n"
          ]
        },
        {
          "output_type": "execute_result",
          "data": {
            "text/plain": [
              "array([[ 1.53898408,  1.47583787,  0.        ],\n",
              "       [ 1.00446603,  0.50987426,  0.        ],\n",
              "       [ 0.47772112,  0.34402684,  0.        ],\n",
              "       [ 0.10619977, -1.83165512,  0.        ],\n",
              "       [-0.97961619,  1.95418353,  0.        ]])"
            ]
          },
          "metadata": {},
          "execution_count": 7
        }
      ]
    },
    {
      "cell_type": "code",
      "source": [
        "X0 = X0 + W\n",
        "X0"
      ],
      "metadata": {
        "colab": {
          "base_uri": "https://localhost:8080/"
        },
        "id": "cdNOPU9G5K1Q",
        "outputId": "7bedaedf-8ac0-4146-d76b-c101f1bc1f9d"
      },
      "execution_count": null,
      "outputs": [
        {
          "output_type": "execute_result",
          "data": {
            "text/plain": [
              "array([[ 0.89664547,  0.6802784 , -0.25191102],\n",
              "       [ 0.89146824,  1.02683917, -0.57999136],\n",
              "       [ 1.1954799 ,  0.39766349, -0.16644982],\n",
              "       [-0.17996743, -2.16933893, -0.23169902],\n",
              "       [-0.53526034,  0.76396361,  1.28086255]])"
            ]
          },
          "metadata": {},
          "execution_count": 8
        }
      ]
    },
    {
      "cell_type": "code",
      "source": [
        "def f(X):\n",
        "  return np.linalg.norm((X @ X.T) - M) ** 2\n",
        "\n",
        "def grad_f(X):\n",
        "  return 2 * (X@X.T - M)@X + 2 * (X@X.T + -M.T)@X"
      ],
      "metadata": {
        "id": "qZLUnJMI6d_c"
      },
      "execution_count": null,
      "outputs": []
    },
    {
      "cell_type": "code",
      "source": [
        "errorBound = 10**-8\n",
        "X = X0\n",
        "a = 2 * 10**-4\n",
        "PrecGD_iterates = []\n",
        "PrecGD_functionValues = []\n",
        "\n",
        "while f(X) > errorBound:\n",
        "  PrecGD_iterates.append(X)\n",
        "  PrecGD_functionValues.append(f(X))\n",
        "  eta = np.sqrt(f(X))\n",
        "  X = X - (a * grad_f(X).reshape((5,3))) @ np.linalg.inv((X.T @ X + eta * np.eye(3)))\n",
        "\n",
        "PrecGD_iterates.append(X)\n",
        "PrecGD_functionValues.append(f(X))"
      ],
      "metadata": {
        "id": "9KAI9KZr5RQ6"
      },
      "execution_count": null,
      "outputs": []
    },
    {
      "cell_type": "code",
      "source": [
        "fig = plt.figure()\n",
        "ax = fig.add_subplot(2,1,1)\n",
        "plt.plot(PrecGD_functionValues)\n",
        "ax.set_yscale('log')\n",
        "plt.show()"
      ],
      "metadata": {
        "colab": {
          "base_uri": "https://localhost:8080/",
          "height": 147
        },
        "id": "Gk5KFK6rE1UC",
        "outputId": "8a74214f-7d7a-46c9-d16a-05543a31a175"
      },
      "execution_count": null,
      "outputs": [
        {
          "output_type": "display_data",
          "data": {
            "text/plain": [
              "<Figure size 432x288 with 1 Axes>"
            ],
            "image/png": "[encoded data removed]"
          },
          "metadata": {
            "needs_background": "light"
          }
        }
      ]
    },
    {
      "cell_type": "code",
      "source": [
        "errorBound = 10**-8\n",
        "X = X0\n",
        "a = 2 * 10**-4\n",
        "PrecGD_max_iterates = []\n",
        "PrecGD_max_functionValues = []\n",
        "\n",
        "while f(X) > errorBound:\n",
        "  PrecGD_max_iterates.append(X)\n",
        "  PrecGD_max_functionValues.append(f(X))\n",
        "  eta = max(f(X), f(X)**(1/4))\n",
        "  X = X - (a * grad_f(X).reshape((5,3))) @ np.linalg.inv((X.T @ X + eta * np.eye(3)))\n",
        "\n",
        "PrecGD_max_iterates.append(X)\n",
        "PrecGD_max_functionValues.append(f(X))"
      ],
      "metadata": {
        "id": "kU50OzzP63Se"
      },
      "execution_count": null,
      "outputs": []
    },
    {
      "cell_type": "code",
      "source": [
        "errorBound = 10**-8\n",
        "X = X0\n",
        "a = 2 * 10**-4\n",
        "PrecGD_min_iterates = []\n",
        "PrecGD_min_functionValues = []\n",
        "\n",
        "while f(X) > errorBound:\n",
        "  PrecGD_min_iterates.append(X)\n",
        "  PrecGD_min_functionValues.append(f(X))\n",
        "  eta = min(f(X), f(X)**(1/4))\n",
        "  X = X - (a * grad_f(X).reshape((5,3))) @ np.linalg.inv((X.T @ X + eta * np.eye(3)))\n",
        "\n",
        "PrecGD_min_iterates.append(X)\n",
        "PrecGD_min_functionValues.append(f(X))"
      ],
      "metadata": {
        "id": "IGmFpvuw__iB"
      },
      "execution_count": null,
      "outputs": []
    },
    {
      "cell_type": "code",
      "source": [
        "fig = plt.figure(figsize=(8,8))\n",
        "ax = fig.add_subplot(2,1,1)\n",
        "plt.plot(PrecGD_min_functionValues, label=\"PrecGD min\")\n",
        "plt.legend()\n",
        "ax.set_yscale('log')\n",
        "plt.xlim([0,30000])\n",
        "plt.show()"
      ],
      "metadata": {
        "colab": {
          "base_uri": "https://localhost:8080/",
          "height": 246
        },
        "id": "OlclBo7edwU2",
        "outputId": "e8e9d18f-45f4-4c20-db87-4e0076ab18de"
      },
      "execution_count": null,
      "outputs": [
        {
          "output_type": "display_data",
          "data": {
            "text/plain": [
              "<Figure size 576x576 with 1 Axes>"
            ],
            "image/png": "[encoded data removed]"
          },
          "metadata": {
            "needs_background": "light"
          }
        }
      ]
    },
    {
      "cell_type": "code",
      "source": [
        "errorBound = 10**-8\n",
        "X = X0\n",
        "a = 2 * 10**-4\n",
        "GD_iterates = []\n",
        "GD_functionValues = []\n",
        "\n",
        "while f(X) > errorBound:\n",
        "  GD_iterates.append(X)\n",
        "  GD_functionValues.append(f(X))\n",
        "  X = X - a * grad_f(X)\n",
        "\n",
        "GD_iterates.append(X)\n",
        "GD_functionValues.append(f(X))"
      ],
      "metadata": {
        "id": "s6N3Ke3SFrRH"
      },
      "execution_count": null,
      "outputs": []
    },
    {
      "cell_type": "code",
      "source": [
        "plt.plot(GD_functionValues)"
      ],
      "metadata": {
        "colab": {
          "base_uri": "https://localhost:8080/",
          "height": 295
        },
        "id": "tE7hmfDIHEFs",
        "outputId": "2a1c7407-76aa-47bd-cf72-6dfde3ac939a"
      },
      "execution_count": null,
      "outputs": [
        {
          "output_type": "execute_result",
          "data": {
            "text/plain": [
              "[<matplotlib.lines.Line2D at 0x7f5fc7d7b640>]"
            ]
          },
          "metadata": {},
          "execution_count": 15
        },
        {
          "output_type": "display_data",
          "data": {
            "text/plain": [
              "<Figure size 432x288 with 1 Axes>"
            ],
            "image/png": "[encoded data removed]"
          },
          "metadata": {
            "needs_background": "light"
          }
        }
      ]
    },
    {
      "cell_type": "code",
      "source": [
        "errorBound = 10**-8\n",
        "X = X0\n",
        "a = 2 * 10**-2\n",
        "ScaledGD_iterates = []\n",
        "ScaledGD_functionValues = []\n",
        "\n",
        "while f(X) > errorBound:\n",
        "  ScaledGD_iterates.append(X)\n",
        "  ScaledGD_functionValues.append(f(X))\n",
        "  X = X - a * grad_f(X) @ np.linalg.inv(X.T @ X)\n",
        "\n",
        "ScaledGD_iterates.append(X)\n",
        "ScaledGD_functionValues.append(f(X))"
      ],
      "metadata": {
        "id": "I0wvm5B7NACr"
      },
      "execution_count": null,
      "outputs": []
    },
    {
      "cell_type": "code",
      "source": [
        "fig = plt.figure()\n",
        "ax = fig.add_subplot(2,1,1)\n",
        "plt.plot(PrecGD_functionValues, label=\"PrecGD\")\n",
        "plt.plot(GD_functionValues, label=\"GD\")\n",
        "plt.legend()\n",
        "ax.set_yscale('log')\n",
        "plt.xlim([0,30000])\n",
        "plt.show()"
      ],
      "metadata": {
        "colab": {
          "base_uri": "https://localhost:8080/",
          "height": 147
        },
        "id": "mOrMXQjBO42W",
        "outputId": "70c7992c-3ce5-4f3e-e9bf-2efb0a2347b7"
      },
      "execution_count": null,
      "outputs": [
        {
          "output_type": "display_data",
          "data": {
            "text/plain": [
              "<Figure size 432x288 with 1 Axes>"
            ],
            "image/png": "[encoded data removed]"
          },
          "metadata": {
            "needs_background": "light"
          }
        }
      ]
    },
    {
      "cell_type": "code",
      "source": [
        "fig = plt.figure(figsize=(8,8))\n",
        "ax = fig.add_subplot(2,1,1)\n",
        "plt.plot(PrecGD_functionValues, label=\"PrecGD\")\n",
        "plt.plot(GD_functionValues, label=\"GD\")\n",
        "plt.plot(ScaledGD_functionValues, label=\"ScaledGD\")\n",
        "plt.legend()\n",
        "ax.set_yscale('log')\n",
        "plt.xlim([0,30000])\n",
        "plt.show()"
      ],
      "metadata": {
        "colab": {
          "base_uri": "https://localhost:8080/",
          "height": 246
        },
        "id": "Y55qxDSfKDFu",
        "outputId": "438d6a05-61d3-457b-aca0-058f33cc95ff"
      },
      "execution_count": null,
      "outputs": [
        {
          "output_type": "display_data",
          "data": {
            "text/plain": [
              "<Figure size 576x576 with 1 Axes>"
            ],
            "image/png": "[encoded data removed]"
          },
          "metadata": {
            "needs_background": "light"
          }
        }
      ]
    },
    {
      "cell_type": "code",
      "source": [
        "fig = plt.figure(figsize=(8,8))\n",
        "ax = fig.add_subplot(2,1,1)\n",
        "plt.plot(PrecGD_functionValues, label=\"PrecGD\")\n",
        "plt.plot(PrecGD_min_functionValues, label=\"PrecGD Min\")\n",
        "plt.plot(PrecGD_max_functionValues, label=\"PrecGD Max\")\n",
        "plt.plot(ScaledGD_functionValues, label=\"ScaledGD\")\n",
        "plt.plot(GD_functionValues, label=\"GD\")\n",
        "plt.xlim([0,30000])\n",
        "plt.legend()\n",
        "ax.set_yscale('log')\n",
        "plt.show()"
      ],
      "metadata": {
        "colab": {
          "base_uri": "https://localhost:8080/",
          "height": 246
        },
        "id": "mzr_ydXPcjtc",
        "outputId": "f4204961-5dbc-4cc0-f4a8-35252c1f2709"
      },
      "execution_count": null,
      "outputs": [
        {
          "output_type": "display_data",
          "data": {
            "text/plain": [
              "<Figure size 576x576 with 1 Axes>"
            ],
            "image/png": "[encoded data removed]"
          },
          "metadata": {
            "needs_background": "light"
          }
        }
      ]
    }
  ]
}